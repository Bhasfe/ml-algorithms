{
 "cells": [
  {
   "cell_type": "markdown",
   "metadata": {},
   "source": [
    "# Linear Regression\n",
    "\n",
    "In this Jupyter Notebook, we're going to work on a data set that I retrieved from [UCI Machine Learning Repository](https://archive.ics.uci.edu/ml/datasets/student+performance). There are many features related to students' performance. We'll build a machine learning model which makes predictions about students' final grades based on mean of their preceding grades."
   ]
  },
  {
   "cell_type": "markdown",
   "metadata": {},
   "source": [
    "### How does Linear Regression work ?\n",
    "\n",
    "Linear Regression is one of the most popular methods in Machine Learning. As you can infer from its name, it works if there is linear relationship between data points. In this notebook, we'll apply **simple linear regression** on our data. It can also be used multiple independent variables. If you are interested you can look at *Multiple Linear Regression* folder. \n",
    "Let's look at how it works. Simply, the primary aim of linear regression is to find the best line on the data points. Best line stands for a line which has the overall smallest distance from every datapoint. You should be acquainted with the following equation.\n",
    "\n",
    "<img src=\"img.png\" width=\"200px\" height=\"200px\" align=\"left\"/>\n"
   ]
  },
  {
   "cell_type": "markdown",
   "metadata": {},
   "source": [
    "**y:** dependent variable<br>\n",
    "**B0:** intercept<br>\n",
    "**B1:** coefficient<br>\n",
    "**x:** independent variable<br>\n"
   ]
  },
  {
   "cell_type": "markdown",
   "metadata": {},
   "source": [
    "Let's look at the following example to see how it works."
   ]
  },
  {
   "cell_type": "code",
   "execution_count": 1,
   "metadata": {},
   "outputs": [
    {
     "data": {
      "image/png": "[encoded data removed]",
      "text/plain": [
       "<Figure size 432x288 with 1 Axes>"
      ]
     },
     "metadata": {
      "needs_background": "light"
     },
     "output_type": "display_data"
    },
    {
     "data": {
      "image/png": "[encoded data removed]",
      "text/plain": [
       "<Figure size 432x288 with 1 Axes>"
      ]
     },
     "metadata": {
      "needs_background": "light"
     },
     "output_type": "display_data"
    }
   ],
   "source": [
    "# Import fundamental libraries\n",
    "import numpy as np\n",
    "import pandas as pd\n",
    "import matplotlib.pyplot as plt\n",
    "import seaborn as sns\n",
    "\n",
    "# Create dummy datapoints\n",
    "x = np.array([0,2,4,6,8,10,12,14,16,18,20])\n",
    "y = np.array([0,4,3,7,5,8,11,10,14,15,20])\n",
    "\n",
    "# Visualize the datapoints\n",
    "sns.regplot(x=x, y=y, fit_reg=False, ci=False)\n",
    "plt.xlabel(\"X\")\n",
    "plt.ylabel(\"y\")\n",
    "plt.show()\n",
    "\n",
    "# Plot a regression line\n",
    "sns.regplot(x=x, y=y, ci=False)\n",
    "plt.xlabel(\"X\")\n",
    "plt.ylabel(\"y\")\n",
    "plt.show()\n"
   ]
  },
  {
   "cell_type": "markdown",
   "metadata": {},
   "source": [
    "In this project, our equation will be like following. Our Linear Regression model will find the coefficent and the intercept\n",
    "<img src=\"img2.png\" width=\"350px\" height=\"350px\" align=\"left\" />\n"
   ]
  },
  {
   "cell_type": "markdown",
   "metadata": {},
   "source": [
    "## 1. First steps"
   ]
  },
  {
   "cell_type": "markdown",
   "metadata": {},
   "source": [
    "First of all, we need to import necessary libraries/packages."
   ]
  },
  {
   "cell_type": "code",
   "execution_count": 2,
   "metadata": {},
   "outputs": [],
   "source": [
    "# We'll use Linear Regression class\n",
    "from sklearn.linear_model import LinearRegression\n",
    "\n",
    "# To evaluate our model\n",
    "from sklearn.model_selection import cross_val_score\n",
    "from sklearn.metrics import mean_squared_error\n",
    "\n",
    "# To split our data into training and test sets\n",
    "from sklearn.model_selection import train_test_split \n",
    "\n",
    "# I will keep the resulting plots\n",
    "%matplotlib inline\n",
    "\n",
    "# Enable Jupyter Notebook's intellisense\n",
    "%config IPCompleter.greedy=True"
   ]
  },
  {
   "cell_type": "markdown",
   "metadata": {},
   "source": [
    "Load the dataset into a DataFrame which we named as data"
   ]
  },
  {
   "cell_type": "code",
   "execution_count": 3,
   "metadata": {},
   "outputs": [],
   "source": [
    "data = pd.read_csv('../datasets/student-mat.csv',delimiter=';')"
   ]
  },
  {
   "cell_type": "markdown",
   "metadata": {},
   "source": [
    "## 2. Exploration and Preprocessing\n",
    "\n",
    "Before build the model, we have to do some exploratory data analysis on the data we're working on"
   ]
  },
  {
   "cell_type": "code",
   "execution_count": 4,
   "metadata": {},
   "outputs": [
    {
     "data": {
      "text/html": [
       "<div>\n",
       "<style scoped>\n",
       "    .dataframe tbody tr th:only-of-type {\n",
       "        vertical-align: middle;\n",
       "    }\n",
       "\n",
       "    .dataframe tbody tr th {\n",
       "        vertical-align: top;\n",
       "    }\n",
       "\n",
       "    .dataframe thead th {\n",
       "        text-align: right;\n",
       "    }\n",
       "</style>\n",
       "<table border=\"1\" class=\"dataframe\">\n",
       "  <thead>\n",
       "    <tr style=\"text-align: right;\">\n",
       "      <th></th>\n",
       "      <th>school</th>\n",
       "      <th>sex</th>\n",
       "      <th>age</th>\n",
       "      <th>address</th>\n",
       "      <th>famsize</th>\n",
       "      <th>Pstatus</th>\n",
       "      <th>Medu</th>\n",
       "      <th>Fedu</th>\n",
       "      <th>Mjob</th>\n",
       "      <th>Fjob</th>\n",
       "      <th>...</th>\n",
       "      <th>famrel</th>\n",
       "      <th>freetime</th>\n",
       "      <th>goout</th>\n",
       "      <th>Dalc</th>\n",
       "      <th>Walc</th>\n",
       "      <th>health</th>\n",
       "      <th>absences</th>\n",
       "      <th>G1</th>\n",
       "      <th>G2</th>\n",
       "      <th>G3</th>\n",
       "    </tr>\n",
       "  </thead>\n",
       "  <tbody>\n",
       "    <tr>\n",
       "      <th>0</th>\n",
       "      <td>GP</td>\n",
       "      <td>F</td>\n",
       "      <td>18</td>\n",
       "      <td>U</td>\n",
       "      <td>GT3</td>\n",
       "      <td>A</td>\n",
       "      <td>4</td>\n",
       "      <td>4</td>\n",
       "      <td>at_home</td>\n",
       "      <td>teacher</td>\n",
       "      <td>...</td>\n",
       "      <td>4</td>\n",
       "      <td>3</td>\n",
       "      <td>4</td>\n",
       "      <td>1</td>\n",
       "      <td>1</td>\n",
       "      <td>3</td>\n",
       "      <td>6</td>\n",
       "      <td>5</td>\n",
       "      <td>6</td>\n",
       "      <td>6</td>\n",
       "    </tr>\n",
       "    <tr>\n",
       "      <th>1</th>\n",
       "      <td>GP</td>\n",
       "      <td>F</td>\n",
       "      <td>17</td>\n",
       "      <td>U</td>\n",
       "      <td>GT3</td>\n",
       "      <td>T</td>\n",
       "      <td>1</td>\n",
       "      <td>1</td>\n",
       "      <td>at_home</td>\n",
       "      <td>other</td>\n",
       "      <td>...</td>\n",
       "      <td>5</td>\n",
       "      <td>3</td>\n",
       "      <td>3</td>\n",
       "      <td>1</td>\n",
       "      <td>1</td>\n",
       "      <td>3</td>\n",
       "      <td>4</td>\n",
       "      <td>5</td>\n",
       "      <td>5</td>\n",
       "      <td>6</td>\n",
       "    </tr>\n",
       "    <tr>\n",
       "      <th>2</th>\n",
       "      <td>GP</td>\n",
       "      <td>F</td>\n",
       "      <td>15</td>\n",
       "      <td>U</td>\n",
       "      <td>LE3</td>\n",
       "      <td>T</td>\n",
       "      <td>1</td>\n",
       "      <td>1</td>\n",
       "      <td>at_home</td>\n",
       "      <td>other</td>\n",
       "      <td>...</td>\n",
       "      <td>4</td>\n",
       "      <td>3</td>\n",
       "      <td>2</td>\n",
       "      <td>2</td>\n",
       "      <td>3</td>\n",
       "      <td>3</td>\n",
       "      <td>10</td>\n",
       "      <td>7</td>\n",
       "      <td>8</td>\n",
       "      <td>10</td>\n",
       "    </tr>\n",
       "    <tr>\n",
       "      <th>3</th>\n",
       "      <td>GP</td>\n",
       "      <td>F</td>\n",
       "      <td>15</td>\n",
       "      <td>U</td>\n",
       "      <td>GT3</td>\n",
       "      <td>T</td>\n",
       "      <td>4</td>\n",
       "      <td>2</td>\n",
       "      <td>health</td>\n",
       "      <td>services</td>\n",
       "      <td>...</td>\n",
       "      <td>3</td>\n",
       "      <td>2</td>\n",
       "      <td>2</td>\n",
       "      <td>1</td>\n",
       "      <td>1</td>\n",
       "      <td>5</td>\n",
       "      <td>2</td>\n",
       "      <td>15</td>\n",
       "      <td>14</td>\n",
       "      <td>15</td>\n",
       "    </tr>\n",
       "    <tr>\n",
       "      <th>4</th>\n",
       "      <td>GP</td>\n",
       "      <td>F</td>\n",
       "      <td>16</td>\n",
       "      <td>U</td>\n",
       "      <td>GT3</td>\n",
       "      <td>T</td>\n",
       "      <td>3</td>\n",
       "      <td>3</td>\n",
       "      <td>other</td>\n",
       "      <td>other</td>\n",
       "      <td>...</td>\n",
       "      <td>4</td>\n",
       "      <td>3</td>\n",
       "      <td>2</td>\n",
       "      <td>1</td>\n",
       "      <td>2</td>\n",
       "      <td>5</td>\n",
       "      <td>4</td>\n",
       "      <td>6</td>\n",
       "      <td>10</td>\n",
       "      <td>10</td>\n",
       "    </tr>\n",
       "  </tbody>\n",
       "</table>\n",
       "<p>5 rows × 33 columns</p>\n",
       "</div>"
      ],
      "text/plain": [
       "  school sex  age address famsize Pstatus  Medu  Fedu     Mjob      Fjob  ...  \\\n",
       "0     GP   F   18       U     GT3       A     4     4  at_home   teacher  ...   \n",
       "1     GP   F   17       U     GT3       T     1     1  at_home     other  ...   \n",
       "2     GP   F   15       U     LE3       T     1     1  at_home     other  ...   \n",
       "3     GP   F   15       U     GT3       T     4     2   health  services  ...   \n",
       "4     GP   F   16       U     GT3       T     3     3    other     other  ...   \n",
       "\n",
       "  famrel freetime  goout  Dalc  Walc health absences  G1  G2  G3  \n",
       "0      4        3      4     1     1      3        6   5   6   6  \n",
       "1      5        3      3     1     1      3        4   5   5   6  \n",
       "2      4        3      2     2     3      3       10   7   8  10  \n",
       "3      3        2      2     1     1      5        2  15  14  15  \n",
       "4      4        3      2     1     2      5        4   6  10  10  \n",
       "\n",
       "[5 rows x 33 columns]"
      ]
     },
     "metadata": {},
     "output_type": "display_data"
    }
   ],
   "source": [
    "# Print first five rows\n",
    "display(data.head())"
   ]
  },
  {
   "cell_type": "markdown",
   "metadata": {},
   "source": [
    "As we see, there are lot's of features. We only need G1, G2 and G3 columns which indicate exam grades. Let's drop other columns and keep them only."
   ]
  },
  {
   "cell_type": "code",
   "execution_count": 5,
   "metadata": {},
   "outputs": [
    {
     "data": {
      "text/html": [
       "<div>\n",
       "<style scoped>\n",
       "    .dataframe tbody tr th:only-of-type {\n",
       "        vertical-align: middle;\n",
       "    }\n",
       "\n",
       "    .dataframe tbody tr th {\n",
       "        vertical-align: top;\n",
       "    }\n",
       "\n",
       "    .dataframe thead th {\n",
       "        text-align: right;\n",
       "    }\n",
       "</style>\n",
       "<table border=\"1\" class=\"dataframe\">\n",
       "  <thead>\n",
       "    <tr style=\"text-align: right;\">\n",
       "      <th></th>\n",
       "      <th>G1</th>\n",
       "      <th>G2</th>\n",
       "      <th>G3</th>\n",
       "    </tr>\n",
       "  </thead>\n",
       "  <tbody>\n",
       "    <tr>\n",
       "      <th>0</th>\n",
       "      <td>5</td>\n",
       "      <td>6</td>\n",
       "      <td>6</td>\n",
       "    </tr>\n",
       "    <tr>\n",
       "      <th>1</th>\n",
       "      <td>5</td>\n",
       "      <td>5</td>\n",
       "      <td>6</td>\n",
       "    </tr>\n",
       "    <tr>\n",
       "      <th>2</th>\n",
       "      <td>7</td>\n",
       "      <td>8</td>\n",
       "      <td>10</td>\n",
       "    </tr>\n",
       "    <tr>\n",
       "      <th>3</th>\n",
       "      <td>15</td>\n",
       "      <td>14</td>\n",
       "      <td>15</td>\n",
       "    </tr>\n",
       "    <tr>\n",
       "      <th>4</th>\n",
       "      <td>6</td>\n",
       "      <td>10</td>\n",
       "      <td>10</td>\n",
       "    </tr>\n",
       "  </tbody>\n",
       "</table>\n",
       "</div>"
      ],
      "text/plain": [
       "   G1  G2  G3\n",
       "0   5   6   6\n",
       "1   5   5   6\n",
       "2   7   8  10\n",
       "3  15  14  15\n",
       "4   6  10  10"
      ]
     },
     "metadata": {},
     "output_type": "display_data"
    },
    {
     "name": "stdout",
     "output_type": "stream",
     "text": [
      "\n",
      "Summary Statistics\n",
      "\n",
      "               G1          G2          G3\n",
      "count  395.000000  395.000000  395.000000\n",
      "mean    10.908861   10.713924   10.415190\n",
      "std      3.319195    3.761505    4.581443\n",
      "min      3.000000    0.000000    0.000000\n",
      "25%      8.000000    9.000000    8.000000\n",
      "50%     11.000000   11.000000   11.000000\n",
      "75%     13.000000   13.000000   14.000000\n",
      "max     19.000000   19.000000   20.000000\n",
      "\n",
      "Info\n",
      "\n",
      "<class 'pandas.core.frame.DataFrame'>\n",
      "RangeIndex: 395 entries, 0 to 394\n",
      "Data columns (total 3 columns):\n",
      " #   Column  Non-Null Count  Dtype\n",
      "---  ------  --------------  -----\n",
      " 0   G1      395 non-null    int64\n",
      " 1   G2      395 non-null    int64\n",
      " 2   G3      395 non-null    int64\n",
      "dtypes: int64(3)\n",
      "memory usage: 9.4 KB\n",
      "None\n"
     ]
    }
   ],
   "source": [
    "# Create a list of column names to be dropped\n",
    "columns_drop = [i for i in data.columns if i not in ['G1','G2','G3']]\n",
    "\n",
    "# Drop columns except G1, G2 and G3\n",
    "data.drop(columns_drop, axis=1, inplace = True)\n",
    "\n",
    "# Display the first five rows again\n",
    "display(data.head())\n",
    "\n",
    "# Print the summary statistics\n",
    "print(\"\\nSummary Statistics\\n\")\n",
    "print(data.describe())\n",
    "\n",
    "# Print the information\n",
    "print(\"\\nInfo\\n\")\n",
    "print(data.info())"
   ]
  },
  {
   "cell_type": "markdown",
   "metadata": {},
   "source": [
    "According to info, there is no missing values to deal with. Since we'll predict G3 (final grade) based on mean of preceding exam grades, we need to do a simple feature extraction. "
   ]
  },
  {
   "cell_type": "code",
   "execution_count": 6,
   "metadata": {},
   "outputs": [
    {
     "data": {
      "text/html": [
       "<div>\n",
       "<style scoped>\n",
       "    .dataframe tbody tr th:only-of-type {\n",
       "        vertical-align: middle;\n",
       "    }\n",
       "\n",
       "    .dataframe tbody tr th {\n",
       "        vertical-align: top;\n",
       "    }\n",
       "\n",
       "    .dataframe thead th {\n",
       "        text-align: right;\n",
       "    }\n",
       "</style>\n",
       "<table border=\"1\" class=\"dataframe\">\n",
       "  <thead>\n",
       "    <tr style=\"text-align: right;\">\n",
       "      <th></th>\n",
       "      <th>G3</th>\n",
       "      <th>pre_mean</th>\n",
       "    </tr>\n",
       "  </thead>\n",
       "  <tbody>\n",
       "    <tr>\n",
       "      <th>0</th>\n",
       "      <td>6</td>\n",
       "      <td>5.5</td>\n",
       "    </tr>\n",
       "    <tr>\n",
       "      <th>1</th>\n",
       "      <td>6</td>\n",
       "      <td>5.0</td>\n",
       "    </tr>\n",
       "    <tr>\n",
       "      <th>2</th>\n",
       "      <td>10</td>\n",
       "      <td>7.5</td>\n",
       "    </tr>\n",
       "    <tr>\n",
       "      <th>3</th>\n",
       "      <td>15</td>\n",
       "      <td>14.5</td>\n",
       "    </tr>\n",
       "    <tr>\n",
       "      <th>4</th>\n",
       "      <td>10</td>\n",
       "      <td>8.0</td>\n",
       "    </tr>\n",
       "  </tbody>\n",
       "</table>\n",
       "</div>"
      ],
      "text/plain": [
       "   G3  pre_mean\n",
       "0   6       5.5\n",
       "1   6       5.0\n",
       "2  10       7.5\n",
       "3  15      14.5\n",
       "4  10       8.0"
      ]
     },
     "metadata": {},
     "output_type": "display_data"
    }
   ],
   "source": [
    "# Take mean of G1 and G2 into a new column\n",
    "data['pre_mean'] = data[['G1','G2']].mean(axis=1)\n",
    "\n",
    "# We no longer need the G1 and G2 columns\n",
    "data.drop(['G1','G2'], axis=1, inplace=True)\n",
    "\n",
    "# Display the final DataFrame\n",
    "display(data.head())"
   ]
  },
  {
   "cell_type": "markdown",
   "metadata": {},
   "source": [
    "Let's check the correlation  matrix by using pandas corr() method. corr() uses the Pearson correlation coefficients so correlation  values will change between -1 and 1. You can find further information [here](https://www.geeksforgeeks.org/python-pandas-dataframe-corr/#:~:text=For%20any%20non%2Dnumeric%20data,the%20dataframe%20it%20is%20ignored.&text=Note%3A%20The%20correlation%20of%20a%20variable%20with%20itself%20is%201.&text=Example%20%231%3A%20Use%20corr(),dataframe%20using%20'Pearson'%20method.&text=Now%20use%20corr()%20function%20to%20find%20the%20correlation%20among%20the%20columns.)"
   ]
  },
  {
   "cell_type": "code",
   "execution_count": 7,
   "metadata": {},
   "outputs": [
    {
     "data": {
      "text/html": [
       "<div>\n",
       "<style scoped>\n",
       "    .dataframe tbody tr th:only-of-type {\n",
       "        vertical-align: middle;\n",
       "    }\n",
       "\n",
       "    .dataframe tbody tr th {\n",
       "        vertical-align: top;\n",
       "    }\n",
       "\n",
       "    .dataframe thead th {\n",
       "        text-align: right;\n",
       "    }\n",
       "</style>\n",
       "<table border=\"1\" class=\"dataframe\">\n",
       "  <thead>\n",
       "    <tr style=\"text-align: right;\">\n",
       "      <th></th>\n",
       "      <th>G3</th>\n",
       "      <th>pre_mean</th>\n",
       "    </tr>\n",
       "  </thead>\n",
       "  <tbody>\n",
       "    <tr>\n",
       "      <th>G3</th>\n",
       "      <td>1.000000</td>\n",
       "      <td>0.889792</td>\n",
       "    </tr>\n",
       "    <tr>\n",
       "      <th>pre_mean</th>\n",
       "      <td>0.889792</td>\n",
       "      <td>1.000000</td>\n",
       "    </tr>\n",
       "  </tbody>\n",
       "</table>\n",
       "</div>"
      ],
      "text/plain": [
       "                G3  pre_mean\n",
       "G3        1.000000  0.889792\n",
       "pre_mean  0.889792  1.000000"
      ]
     },
     "metadata": {},
     "output_type": "display_data"
    }
   ],
   "source": [
    "# Calculate the correlation matrix and display\n",
    "display(data.corr())"
   ]
  },
  {
   "cell_type": "markdown",
   "metadata": {},
   "source": [
    "Correlation matrix indicates that our features are positively correlated"
   ]
  },
  {
   "cell_type": "markdown",
   "metadata": {},
   "source": [
    "Now we can visualize our data."
   ]
  },
  {
   "cell_type": "code",
   "execution_count": 8,
   "metadata": {},
   "outputs": [
    {
     "data": {
      "image/png": "[encoded data removed]",
      "text/plain": [
       "<Figure size 432x288 with 1 Axes>"
      ]
     },
     "metadata": {},
     "output_type": "display_data"
    },
    {
     "data": {
      "image/png": "[encoded data removed]",
      "text/plain": [
       "<Figure size 432x288 with 1 Axes>"
      ]
     },
     "metadata": {},
     "output_type": "display_data"
    }
   ],
   "source": [
    "# Let's make a line plot to investigate the correlation\n",
    "sns.set()\n",
    "sns.lineplot(x='pre_mean', y='G3', data = data)\n",
    "plt.title(\"Final grades vs previous grades (mean)\")\n",
    "plt.show()\n",
    "\n",
    "# Let's make a scatter plot to investigate the correlation\n",
    "sns.set()\n",
    "sns.scatterplot(x='pre_mean', y='G3', data = data)\n",
    "plt.title(\"Final grades vs previous grades (mean)\")\n",
    "plt.show()"
   ]
  },
  {
   "cell_type": "markdown",
   "metadata": {},
   "source": [
    "As we can see there are some students who got zero from final exam although they got higher grades from midterms. Since our primary aim is to understand linear regression. I do not want to deal with these interesting grades too much. There may be different features in the dataset which brought about these grades. We'll explore them in the *Multiple Linear Regression* case."
   ]
  },
  {
   "cell_type": "markdown",
   "metadata": {},
   "source": [
    "## 3. Build the model\n",
    "\n",
    "Now, we can start to build our regression model. First, split the data into training and test sets"
   ]
  },
  {
   "cell_type": "code",
   "execution_count": 9,
   "metadata": {},
   "outputs": [],
   "source": [
    "# Split the data into training and test sets\n",
    "X_train, X_test, y_train, y_test = train_test_split(data[['pre_mean']],data[['G3']], test_size=0.2, random_state=34)"
   ]
  },
  {
   "cell_type": "markdown",
   "metadata": {},
   "source": [
    "Let's build the Linear Regression model."
   ]
  },
  {
   "cell_type": "code",
   "execution_count": 10,
   "metadata": {},
   "outputs": [
    {
     "name": "stdout",
     "output_type": "stream",
     "text": [
      "Coefficent: [[1.18348098]]\n",
      "Intercept: [-2.30848722]\n"
     ]
    },
    {
     "data": {
      "image/png": "[encoded data removed]",
      "text/plain": [
       "<Figure size 432x288 with 1 Axes>"
      ]
     },
     "metadata": {},
     "output_type": "display_data"
    }
   ],
   "source": [
    "# Initialize the regressor\n",
    "lr = LinearRegression()\n",
    "\n",
    "# Fit the model\n",
    "lr.fit(X_train, y_train)\n",
    "\n",
    "# Print the coeffiecent and intercept\n",
    "print(\"Coefficent:\",lr.coef_)\n",
    "print(\"Intercept:\",lr.intercept_)\n",
    "\n",
    "# Visualize the model -->  y = mx + b\n",
    "sns.scatterplot(x=X_train['pre_mean'], y=y_train['G3'])\n",
    "x = np.linspace(X_train['pre_mean'].min(),X_train['pre_mean'].max())\n",
    "sns.lineplot(x=x, y=x*lr.coef_[0] + lr.intercept_, color='r',label=\"Regression line\")\n",
    "plt.title(\"Linear Regression Model\")\n",
    "plt.show()"
   ]
  },
  {
   "cell_type": "markdown",
   "metadata": {},
   "source": [
    "## 4. Evaluate the model"
   ]
  },
  {
   "cell_type": "code",
   "execution_count": 11,
   "metadata": {},
   "outputs": [
    {
     "name": "stdout",
     "output_type": "stream",
     "text": [
      "\n",
      "Training Errors:\n",
      " \n",
      "MSE: 4.04924848062104\n",
      "RMSE: 2.0122744545963505\n",
      "R^2: 0.7991327503100405\n",
      "\n",
      "Test Errors:\n",
      " \n",
      "MSE: 5.640337335065247\n",
      "RMSE: 2.3749394381889504\n",
      "R^2: 1.0\n"
     ]
    }
   ],
   "source": [
    "# Make predictions\n",
    "y_pred_test = lr.predict(X_test)\n",
    "y_pred_train = lr.predict(X_train)\n",
    "\n",
    "# TRAINING ERRORS\n",
    "print(\"\\nTraining Errors:\\n \")\n",
    "\n",
    "# Mean Squared Error\n",
    "print(\"MSE:\",mean_squared_error(y_train, y_pred_train))\n",
    "\n",
    "# Root Mean Squared Error\n",
    "print(\"RMSE:\",np.sqrt(mean_squared_error(y_train, y_pred_train)))\n",
    "      \n",
    "# R^2\n",
    "print(\"R^2:\",lr.score(X_train, y_train))\n",
    "\n",
    "\n",
    "# TEST ERRORS\n",
    "print(\"\\nTest Errors:\\n \")\n",
    "\n",
    "# Mean Squared Error\n",
    "print(\"MSE:\",mean_squared_error(y_test, y_pred_test))\n",
    "\n",
    "# Root Mean Squared Error\n",
    "print(\"RMSE:\",np.sqrt(mean_squared_error(y_test, y_pred_test)))\n",
    "      \n",
    "# R^2\n",
    "print(\"R^2:\",lr.score(X_test, y_pred_test))\n"
   ]
  },
  {
   "cell_type": "markdown",
   "metadata": {},
   "source": [
    "It looks like our model works fine. This is the end of the notebook. I hope this notebook is helpful for understanding basics of linear regression implementation"
   ]
  }
 ],
 "metadata": {
  "kernelspec": {
   "display_name": "Python 3",
   "language": "python",
   "name": "python3"
  },
  "language_info": {
   "codemirror_mode": {
    "name": "ipython",
    "version": 3
   },
   "file_extension": ".py",
   "mimetype": "text/x-python",
   "name": "python",
   "nbconvert_exporter": "python",
   "pygments_lexer": "ipython3",
   "version": "3.7.6"
  }
 },
 "nbformat": 4,
 "nbformat_minor": 4
}
